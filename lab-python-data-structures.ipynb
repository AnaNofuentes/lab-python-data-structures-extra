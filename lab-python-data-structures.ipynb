{
 "cells": [
  {
   "cell_type": "markdown",
   "metadata": {},
   "source": [
    "# Lab | Data Structures "
   ]
  },
  {
   "cell_type": "markdown",
   "metadata": {},
   "source": [
    "## Exercise 1: Working with Lists"
   ]
  },
  {
   "cell_type": "markdown",
   "metadata": {},
   "source": [
    "Imagine you are building a program for a teacher who wants to track the progress of their students throughout the semester. The teacher wants to input the grades of each student one by one, and get a summary of their performance. There are in total 5 students. You are tasked with building the program that will allow the teacher to do this easily.\n",
    "\n",
    "The program will prompt the teacher to enter the grades of each student. Once the teacher has entered all the grades, the program will calculate the total sum of the grades and display it on the screen. Then, the program will create a new list by selecting only the grades of the first, third, and fifth students entered by the teacher, and sort them in ascending order.\n",
    "\n",
    "Finally, the program will print out the new list, along with its length and the number of occurrences of the score 5 in the list. This will give the teacher a good overview of the performance of the selected students, and help them identify any potential issues early on."
   ]
  },
  {
   "cell_type": "markdown",
   "metadata": {},
   "source": [
    "*Hint:*\n",
    "- You can use the input() function to ask the user to enter their information.\n",
    "- Look for list methods to perform the tasks. \n",
    "- Remember, it is possible to get a part of the sequence using:\n",
    "\n",
    "    ```python\n",
    "    sequence[x:y:z]\n",
    "    ```\n",
    "    where x, y, z are integers.\n",
    "\n",
    "    The above returns a new sequence with the following characteristics:\n",
    "\n",
    "    - A sequence with the same type as the original (a slice of a list is a list, a slice of a tuple is a tuple, and a slice of a string is a string).\n",
    "    - A sequence with elements from `sequence [x]` to `sequence [y-1]` (does not include a sequence [y]). By skipping `z` elements each time, it can be omitted if ` z = 1`.\n"
   ]
  },
  {
   "cell_type": "markdown",
   "metadata": {},
   "source": [
    "*Recommended External Resources:*\n",
    "- *[Python Lists](https://www.w3schools.com/python/python_lists.asp)*\n",
    "- *[Python List Methods](https://www.w3schools.com/python/python_ref_list.asp)*\n",
    "- *[Python Built-in Functions](https://docs.python.org/3/library/functions.html)*\n"
   ]
  },
  {
   "cell_type": "code",
   "execution_count": 48,
   "metadata": {},
   "outputs": [
    {
     "name": "stdout",
     "output_type": "stream",
     "text": [
      "25\n",
      "['5', '5', '5']\n",
      "3\n"
     ]
    },
    {
     "data": {
      "text/plain": [
       "3"
      ]
     },
     "execution_count": 48,
     "metadata": {},
     "output_type": "execute_result"
    }
   ],
   "source": [
    "\n",
    "info1 = input(\"Please enter the grades of student1: \")\n",
    "info2 = input(\"Please enter the grades of student2: \")\n",
    "info3 = input(\"Please enter the grades of student3: \")\n",
    "info4 = input(\"Please enter the grades of student4: \")\n",
    "info5 = input(\"Please enter the grades of student5: \")\n",
    "\n",
    "total = int(info1)+int(info2)+int(info3)+int(info4)+int(info5)\n",
    "print(total)\n",
    "scores = []\n",
    "scores.append(info1)\n",
    "scores.append(info2)\n",
    "scores.append(info3)\n",
    "scores.append(info4)\n",
    "scores.append(info5)\n",
    "\n",
    "new_score= scores[0:5:2]\n",
    "new_score.sort()\n",
    "print(new_score)\n",
    "\n",
    "print(len(new_score))\n",
    "new_score.count('5')"
   ]
  },
  {
   "cell_type": "markdown",
   "metadata": {},
   "source": [
    "## Exercise 2: Tuples"
   ]
  },
  {
   "cell_type": "markdown",
   "metadata": {},
   "source": [
    "Imagine you're running a fruit stand and want to keep track of your inventory. Write a Python program that does the following:\n",
    "\n",
    "- Initializes a tuple with 5 different types of fruit.\n",
    "- Outputs the first and last elements of the tuple, so you can see the full range of fruits the store offers.\n",
    "- Replaces the second element of the tuple with a new fruit that the store has recently received, and prints the updated tuple so you can see the changes.\n",
    "- Concatenates a new tuple containing 2 additional fruits to the original tuple, so you can add them to the store inventory, and prints the resulting tuple to see the updated inventory.\n",
    "- Splits the resulting tuple into 2 tuples of 3 elements each (the first tuple contains the first 3 elements, and the second tuple contains the last 3 elements), so you can organize the inventory more effectively.\n",
    "- Combines the 2 tuples from the previous step with the original tuple into a new tuple, and prints the resulting tuple and its length, so you can see the final inventory after all the changes."
   ]
  },
  {
   "cell_type": "markdown",
   "metadata": {},
   "source": [
    "*Recommended External Resources: [Python Tuples Examples and Methods](https://www.w3schools.com/python/python_tuples.asp)*\n",
    "\n"
   ]
  },
  {
   "cell_type": "code",
   "execution_count": 65,
   "metadata": {},
   "outputs": [
    {
     "name": "stdout",
     "output_type": "stream",
     "text": [
      "apple\n",
      "cherry\n",
      "('apple', 'kiwi', 'orange', 'grape', 'cherry')\n",
      "('apple', 'kiwi', 'orange', 'grape', 'cherry', 'coconut', 'mango')\n",
      "('apple', 'kiwi', 'orange')\n",
      "('cherry', 'coconut', 'mango')\n",
      "('apple', 'kiwi', 'orange', 'cherry', 'coconut', 'mango', 'apple', 'banana', 'orange', 'grape', 'cherry')\n",
      "11\n"
     ]
    }
   ],
   "source": [
    "fruits = (\"apple\", \"banana\", \"orange\", \"grape\", \"cherry\")\n",
    "print(fruits[0])\n",
    "print(fruits[-1])\n",
    "change_fruits= list(fruits)\n",
    "change_fruits[1] = \"kiwi\"\n",
    "fruits_change = tuple(change_fruits)\n",
    "print(fruits_change)\n",
    "more_fruits= (\"coconut\", \"mango\")\n",
    "new_fruits= fruits_change + more_fruits\n",
    "print(new_fruits)\n",
    "tuple1= new_fruits[0:3]\n",
    "print(tuple1)\n",
    "tuple2= new_fruits[4:7]\n",
    "print(tuple2)\n",
    "new_tuple= tuple1 + tuple2 + fruits\n",
    "print(new_tuple)\n",
    "print(len(new_tuple))"
   ]
  },
  {
   "cell_type": "markdown",
   "metadata": {},
   "source": [
    "## Exercise 3: Sets"
   ]
  },
  {
   "cell_type": "markdown",
   "metadata": {},
   "source": [
    "Imagine you are a data analyst working for a literature museum. Your manager has given you two poems to analyze, and she wants you to write a Python program to extract useful information from them.\n",
    "\n",
    "Your program should:\n",
    "\n",
    "- Create two sets, one for each poem, containing all unique words in both poems (ignoring case and punctuation).\n",
    "- Print the number of unique words in each set.\n",
    "- Identify and print the unique words present in the first poem but not in the second one.\n",
    "- Identify and print the unique words present in the second poem but not in the first one.\n",
    "- Identify and print the unique words present in both poems and print it in alphabetical order."
   ]
  },
  {
   "cell_type": "markdown",
   "metadata": {},
   "source": [
    "*Recommended External Resources:*\n",
    "- *[Python Sets](https://www.w3schools.com/python/python_sets.asp)* \n",
    "- *[Python Set Methods](https://www.w3schools.com/python/python_ref_set.asp)*\n",
    "- *[Python String Methods](https://www.w3schools.com/python/python_ref_string.asp)*\n"
   ]
  },
  {
   "cell_type": "code",
   "execution_count": 1,
   "metadata": {},
   "outputs": [],
   "source": [
    "poem = \"\"\"Some say the world will end in fire,\n",
    "Some say in ice.\n",
    "From what I’ve tasted of desire\n",
    "I hold with those who favor fire.\n",
    "But if it had to perish twice,\n",
    "I think I know enough of hate\n",
    "To say that for destruction ice\n",
    "Is also great\n",
    "And would suffice.\"\"\"\n",
    "\n",
    "new_poem = \"\"\"Some say life is but a dream,\n",
    "Some say it's a test.\n",
    "From what I've seen and what I deem,\n",
    "I side with those who see it as a quest.\n",
    "\n",
    "But if it had to end today,\n",
    "I think I know enough of love,\n",
    "To say that though it fades away,\n",
    "It's still what we are made of.\"\"\""
   ]
  },
  {
   "cell_type": "code",
   "execution_count": 28,
   "metadata": {},
   "outputs": [
    {
     "name": "stdout",
     "output_type": "stream",
     "text": [
      "{'of', 'will', 'say', 'to', 'great', 'hate', 'for', 'if', 've', 'favor', 'end', 'enough', 'with', 'would', 'i', 'think', 'hold', 'know', 'fire', 'from', 'and', 'tasted', 'world', 'it', 'destruction', 'that', 'in', 'but', 'had', 'what', 'the', 'some', 'those', 'also', 'twice', 'ice', 'suffice', 'who', 'desire', 'is', 'perish'}\n",
      "41\n",
      "{'side', 'still', 'of', 'to', 'say', 'love', 'if', 'are', 've', 'away', 'seen', 'as', 'see', 'quest', 'end', 'enough', 'made', 'with', 'today', 'i', 'think', 'know', 'deem', 'life', 'fades', 'from', 'and', 'we', 'it', 'that', 'but', 'though', 'had', 'a', 'what', 's', 'some', 'those', 'who', 'dream', 'is', 'test'}\n",
      "42\n",
      "{'will', 'great', 'hate', 'for', 'favor', 'would', 'hold', 'fire', 'tasted', 'world', 'destruction', 'in', 'the', 'also', 'twice', 'ice', 'suffice', 'desire', 'perish'}\n",
      "{'side', 'still', 'are', 'away', 'seen', 'as', 'see', 'quest', 'made', 'today', 'deem', 'life', 'fades', 'we', 'though', 'a', 's', 'dream', 'love', 'test'}\n",
      "['and', 'but', 'end', 'enough', 'from', 'had', 'i', 'if', 'is', 'it', 'know', 'of', 'say', 'some', 'that', 'think', 'those', 'to', 've', 'what', 'who', 'with']\n"
     ]
    }
   ],
   "source": [
    "poem_1 = poem.replace(\",\",\"\").replace(\".\", \"\").replace(\"’\",\" \").replace(\"\\n\",\" \").lower()\n",
    "#print(poem_1)\n",
    "splits_1= poem_1.split()\n",
    "#print(splits_1)\n",
    "unique_w_1=set(splits_1)\n",
    "print(unique_w_1)\n",
    "\n",
    "#- Print the number of unique words in each set.\n",
    "\n",
    "quantity_words_1= len(unique_w_1)\n",
    "print(quantity_words_1)\n",
    "\n",
    "poem_2 = new_poem.replace(\",\",\" \").replace(\".\", \" \").replace(\"'\",\" \").replace(\"\\n\",\"\").lower()\n",
    "#print(poem_2)\n",
    "splits_2= poem_2.split()\n",
    "#print(splits_2)\n",
    "unique_w_2=set(splits_2)\n",
    "print(unique_w_2)\n",
    "\n",
    "#- Print the number of unique words in each set.\n",
    "\n",
    "quantity_words_2 = len(unique_w_2)\n",
    "print(quantity_words_2)\n",
    "\n",
    "#- Identify and print the unique words present in the first poem but not in the second one.\n",
    "unique_first= unique_w_1.difference(unique_w_2)\n",
    "print(unique_first)\n",
    "\n",
    "#- Identify and print the unique words present in the second poem but not in the first one.\n",
    "\n",
    "unique_second= unique_w_2.difference(unique_w_1)\n",
    "print(unique_second)\n",
    "\n",
    "#- Identify and print the unique words present in both poems and print it in alphabetical order.\n",
    "\n",
    "both_poems = unique_w_1.intersection(unique_w_2)\n",
    "print(sorted(list(both_poems)))\n"
   ]
  },
  {
   "cell_type": "markdown",
   "metadata": {},
   "source": [
    "## Exercise 4: Dictionaries"
   ]
  },
  {
   "cell_type": "markdown",
   "metadata": {},
   "source": [
    "Consider the following dictionary of students with their scores in different subjects. One of the students, Bob, has complained about his score in Philosophy and, after reviewing it, the teacher has decided to update his score to 100. Write a Python program that updates Bob's score in Philosophy to 100 in the dictionary."
   ]
  },
  {
   "cell_type": "markdown",
   "metadata": {},
   "source": [
    "*Recommended External Resources: [Python Dictionary Examples and Methods](https://www.w3schools.com/python/python_dictionaries.asp)*\n"
   ]
  },
  {
   "cell_type": "code",
   "execution_count": 30,
   "metadata": {},
   "outputs": [],
   "source": [
    "grades = {'Alice': {'Physics': 75, 'Math': 85, 'Chemistry': 60, 'Philosophy': 90}, 'Bob': {'Physics': 75, 'Math': 85, 'Chemistry': 60, 'Philosophy': 90}}"
   ]
  },
  {
   "cell_type": "code",
   "execution_count": 34,
   "metadata": {},
   "outputs": [
    {
     "data": {
      "text/plain": [
       "{'Alice': {'Physics': 75, 'Math': 85, 'Chemistry': 60, 'Philosophy': 90},\n",
       " 'Bob': {'Physics': 75, 'Math': 85, 'Chemistry': 60, 'Philosophy': 100}}"
      ]
     },
     "execution_count": 34,
     "metadata": {},
     "output_type": "execute_result"
    }
   ],
   "source": [
    "update= grades['Bob']['Philosophy'] = 100\n",
    "update\n",
    "grades"
   ]
  },
  {
   "cell_type": "markdown",
   "metadata": {},
   "source": [
    "## Bonus"
   ]
  },
  {
   "cell_type": "markdown",
   "metadata": {},
   "source": [
    "1. Below are the two lists. Write a Python program to convert them into a dictionary in a way that item from list1 is the key and item from list2 is the value."
   ]
  },
  {
   "cell_type": "markdown",
   "metadata": {},
   "source": [
    "*Hint: Use the zip() function. This function takes two or more iterables (like list, dict, string), aggregates them in a tuple, and returns it. Afterwards, you can use a function that turns a tuple into a dictionary.*"
   ]
  },
  {
   "cell_type": "markdown",
   "metadata": {},
   "source": [
    "*Recommended External Resources: [Python Zip Function](https://www.w3schools.com/python/ref_func_zip.asp)*\n"
   ]
  },
  {
   "cell_type": "code",
   "execution_count": 41,
   "metadata": {},
   "outputs": [
    {
     "name": "stdout",
     "output_type": "stream",
     "text": [
      "{'Physics': 75, 'Math': 85, 'Chemistry': 60, 'Philosophy': 90}\n"
     ]
    }
   ],
   "source": [
    "keys = ['Physics', 'Math', 'Chemistry', 'Philosophy']\n",
    "values = [75, 85, 60,90]\n",
    "\n",
    "zip_func = zip(keys,values)\n",
    "func =dict(zip_func)\n",
    "print(func)"
   ]
  },
  {
   "cell_type": "markdown",
   "metadata": {},
   "source": [
    "2. Get the subject with the minimum score from the previous dictionary."
   ]
  },
  {
   "cell_type": "markdown",
   "metadata": {},
   "source": [
    "*Hint: Use the built-in function min(). Read about the parameter key.*"
   ]
  },
  {
   "cell_type": "markdown",
   "metadata": {},
   "source": [
    "\n",
    "*Recommended External Resources:*\n",
    "- *[Python Min Function Official Documentation](https://docs.python.org/3.8/library/functions.html#min)*\n",
    "- *[How to use key function in max and min in Python](https://medium.com/analytics-vidhya/how-to-use-key-function-in-max-and-min-in-python-1fdbd661c59c)*"
   ]
  },
  {
   "cell_type": "code",
   "execution_count": 43,
   "metadata": {},
   "outputs": [
    {
     "data": {
      "text/plain": [
       "'Chemistry'"
      ]
     },
     "execution_count": 43,
     "metadata": {},
     "output_type": "execute_result"
    }
   ],
   "source": [
    "min(func)"
   ]
  }
 ],
 "metadata": {
  "kernelspec": {
   "display_name": "Python 3 (ipykernel)",
   "language": "python",
   "name": "python3"
  },
  "language_info": {
   "codemirror_mode": {
    "name": "ipython",
    "version": 3
   },
   "file_extension": ".py",
   "mimetype": "text/x-python",
   "name": "python",
   "nbconvert_exporter": "python",
   "pygments_lexer": "ipython3",
   "version": "3.12.4"
  }
 },
 "nbformat": 4,
 "nbformat_minor": 4
}
